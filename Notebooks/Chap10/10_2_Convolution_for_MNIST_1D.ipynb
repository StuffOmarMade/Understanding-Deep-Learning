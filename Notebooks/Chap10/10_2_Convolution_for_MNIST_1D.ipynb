{
  "nbformat": 4,
  "nbformat_minor": 0,
  "metadata": {
    "colab": {
      "provenance": [],
      "gpuType": "T4",
      "include_colab_link": true
    },
    "kernelspec": {
      "name": "python3",
      "display_name": "Python 3"
    },
    "language_info": {
      "name": "python"
    },
    "accelerator": "GPU"
  },
  "cells": [
    {
      "cell_type": "markdown",
      "metadata": {
        "id": "view-in-github",
        "colab_type": "text"
      },
      "source": [
        "<a href=\"https://colab.research.google.com/github/StuffOmarMade/Understanding-Deep-Learning/blob/main/Notebooks/Chap10/10_2_Convolution_for_MNIST_1D.ipynb\" target=\"_parent\"><img src=\"https://colab.research.google.com/assets/colab-badge.svg\" alt=\"Open In Colab\"/></a>"
      ]
    },
    {
      "cell_type": "markdown",
      "source": [
        "# **Notebook 10.2: Convolution for MNIST-1D**\n",
        "\n",
        "This notebook investigates a 1D convolutional network for MNIST-1D as in figure 10.7 and 10.8a.\n",
        "\n",
        "Work through the cells below, running each cell in turn. In various places you will see the words \"TODO\". Follow the instructions at these places and make predictions about what is going to happen or write code to complete the functions.\n",
        "\n",
        "Contact me at udlbookmail@gmail.com if you find any mistakes or have any suggestions.\n",
        "\n"
      ],
      "metadata": {
        "id": "t9vk9Elugvmi"
      }
    },
    {
      "cell_type": "code",
      "source": [
        "# Run this if you're in a Colab to install MNIST 1D repository\n",
        "!pip install git+https://github.com/greydanus/mnist1d"
      ],
      "metadata": {
        "id": "D5yLObtZCi9J",
        "outputId": "c8a99d77-ebf6-434c-9a6a-e25068ab2e15",
        "colab": {
          "base_uri": "https://localhost:8080/"
        }
      },
      "execution_count": 1,
      "outputs": [
        {
          "output_type": "stream",
          "name": "stdout",
          "text": [
            "Collecting git+https://github.com/greydanus/mnist1d\n",
            "  Cloning https://github.com/greydanus/mnist1d to /tmp/pip-req-build-0cg40l2_\n",
            "  Running command git clone --filter=blob:none --quiet https://github.com/greydanus/mnist1d /tmp/pip-req-build-0cg40l2_\n",
            "  Resolved https://github.com/greydanus/mnist1d to commit 7878d96082abd200c546a07a4101fa90b30fdf7e\n",
            "  Installing build dependencies ... \u001b[?25l\u001b[?25hdone\n",
            "  Getting requirements to build wheel ... \u001b[?25l\u001b[?25hdone\n",
            "  Preparing metadata (pyproject.toml) ... \u001b[?25l\u001b[?25hdone\n",
            "Requirement already satisfied: requests in /usr/local/lib/python3.11/dist-packages (from mnist1d==0.0.2.post16) (2.32.3)\n",
            "Requirement already satisfied: numpy in /usr/local/lib/python3.11/dist-packages (from mnist1d==0.0.2.post16) (2.0.2)\n",
            "Requirement already satisfied: matplotlib in /usr/local/lib/python3.11/dist-packages (from mnist1d==0.0.2.post16) (3.10.0)\n",
            "Requirement already satisfied: scipy in /usr/local/lib/python3.11/dist-packages (from mnist1d==0.0.2.post16) (1.16.1)\n",
            "Requirement already satisfied: contourpy>=1.0.1 in /usr/local/lib/python3.11/dist-packages (from matplotlib->mnist1d==0.0.2.post16) (1.3.3)\n",
            "Requirement already satisfied: cycler>=0.10 in /usr/local/lib/python3.11/dist-packages (from matplotlib->mnist1d==0.0.2.post16) (0.12.1)\n",
            "Requirement already satisfied: fonttools>=4.22.0 in /usr/local/lib/python3.11/dist-packages (from matplotlib->mnist1d==0.0.2.post16) (4.59.0)\n",
            "Requirement already satisfied: kiwisolver>=1.3.1 in /usr/local/lib/python3.11/dist-packages (from matplotlib->mnist1d==0.0.2.post16) (1.4.8)\n",
            "Requirement already satisfied: packaging>=20.0 in /usr/local/lib/python3.11/dist-packages (from matplotlib->mnist1d==0.0.2.post16) (25.0)\n",
            "Requirement already satisfied: pillow>=8 in /usr/local/lib/python3.11/dist-packages (from matplotlib->mnist1d==0.0.2.post16) (11.3.0)\n",
            "Requirement already satisfied: pyparsing>=2.3.1 in /usr/local/lib/python3.11/dist-packages (from matplotlib->mnist1d==0.0.2.post16) (3.2.3)\n",
            "Requirement already satisfied: python-dateutil>=2.7 in /usr/local/lib/python3.11/dist-packages (from matplotlib->mnist1d==0.0.2.post16) (2.9.0.post0)\n",
            "Requirement already satisfied: charset-normalizer<4,>=2 in /usr/local/lib/python3.11/dist-packages (from requests->mnist1d==0.0.2.post16) (3.4.2)\n",
            "Requirement already satisfied: idna<4,>=2.5 in /usr/local/lib/python3.11/dist-packages (from requests->mnist1d==0.0.2.post16) (3.10)\n",
            "Requirement already satisfied: urllib3<3,>=1.21.1 in /usr/local/lib/python3.11/dist-packages (from requests->mnist1d==0.0.2.post16) (2.5.0)\n",
            "Requirement already satisfied: certifi>=2017.4.17 in /usr/local/lib/python3.11/dist-packages (from requests->mnist1d==0.0.2.post16) (2025.8.3)\n",
            "Requirement already satisfied: six>=1.5 in /usr/local/lib/python3.11/dist-packages (from python-dateutil>=2.7->matplotlib->mnist1d==0.0.2.post16) (1.17.0)\n",
            "Building wheels for collected packages: mnist1d\n",
            "  Building wheel for mnist1d (pyproject.toml) ... \u001b[?25l\u001b[?25hdone\n",
            "  Created wheel for mnist1d: filename=mnist1d-0.0.2.post16-py3-none-any.whl size=14665 sha256=2103933be0a9d56659887ebc735d5db00598ccce7058ea0dac9b26ec7a216a21\n",
            "  Stored in directory: /tmp/pip-ephem-wheel-cache-uyxi_w5k/wheels/d6/38/42/3d2112bc7d915f6195254ac85eb761d922d1b18f52817aa8e2\n",
            "Successfully built mnist1d\n",
            "Installing collected packages: mnist1d\n",
            "Successfully installed mnist1d-0.0.2.post16\n"
          ]
        }
      ]
    },
    {
      "cell_type": "code",
      "source": [
        "import numpy as np\n",
        "import os\n",
        "import torch, torch.nn as nn\n",
        "from torch.utils.data import TensorDataset, DataLoader\n",
        "from torch.optim.lr_scheduler import StepLR\n",
        "import matplotlib.pyplot as plt\n",
        "import mnist1d\n",
        "import random"
      ],
      "metadata": {
        "id": "YrXWAH7sUWvU"
      },
      "execution_count": 2,
      "outputs": []
    },
    {
      "cell_type": "code",
      "source": [
        "args = mnist1d.data.get_dataset_args()\n",
        "data = mnist1d.data.get_dataset(args, path='./mnist1d_data.pkl', download=False, regenerate=False)\n",
        "\n",
        "# The training and test input and outputs are in\n",
        "# data['x'], data['y'], data['x_test'], and data['y_test']\n",
        "print(\"Examples in training set: {}\".format(len(data['y'])))\n",
        "print(\"Examples in test set: {}\".format(len(data['y_test'])))\n",
        "print(\"Length of each example: {}\".format(data['x'].shape[-1]))"
      ],
      "metadata": {
        "id": "twI72ZCrCt5z",
        "outputId": "4ddd6f73-1af2-4733-de47-c8c4427ffb60",
        "colab": {
          "base_uri": "https://localhost:8080/"
        }
      },
      "execution_count": 3,
      "outputs": [
        {
          "output_type": "stream",
          "name": "stdout",
          "text": [
            "Did or could not load data from ./mnist1d_data.pkl. Rebuilding dataset...\n",
            "Examples in training set: 4000\n",
            "Examples in test set: 1000\n",
            "Length of each example: 40\n"
          ]
        }
      ]
    },
    {
      "cell_type": "code",
      "source": [
        "# Load in the data\n",
        "train_data_x = data['x'].transpose()\n",
        "train_data_y = data['y']\n",
        "val_data_x = data['x_test'].transpose()\n",
        "val_data_y = data['y_test']\n",
        "# Print out sizes\n",
        "print(\"Train data: %d examples (columns), each of which has %d dimensions (rows)\"%((train_data_x.shape[1],train_data_x.shape[0])))\n",
        "print(\"Validation data: %d examples (columns), each of which has %d dimensions (rows)\"%((val_data_x.shape[1],val_data_x.shape[0])))"
      ],
      "metadata": {
        "id": "8bKADvLHbiV5",
        "outputId": "9522f93e-e1d0-446b-98de-295bccd9d7bf",
        "colab": {
          "base_uri": "https://localhost:8080/"
        }
      },
      "execution_count": 4,
      "outputs": [
        {
          "output_type": "stream",
          "name": "stdout",
          "text": [
            "Train data: 4000 examples (columns), each of which has 40 dimensions (rows)\n",
            "Validation data: 1000 examples (columns), each of which has 40 dimensions (rows)\n"
          ]
        }
      ]
    },
    {
      "cell_type": "markdown",
      "source": [
        "Define the network"
      ],
      "metadata": {
        "id": "_sFvRDGrl4qe"
      }
    },
    {
      "cell_type": "code",
      "source": [
        "# There are 40 input dimensions and 10 output dimensions for this data\n",
        "# The inputs correspond to the 40 offsets in the MNIST1D template.\n",
        "D_i = 40\n",
        "# The outputs correspond to the 10 digits\n",
        "D_o = 10\n",
        "\n",
        "\n",
        "# TODO Create a model with the following layers\n",
        "# 1. Convolutional layer, (input=length 40 and 1 channel, kernel size 3, stride 2, padding=\"valid\", 15 output channels )\n",
        "# 2. ReLU\n",
        "# 3. Convolutional layer, (input=length 19 and 15 channels, kernel size 3, stride 2, padding=\"valid\", 15 output channels )\n",
        "# 4. ReLU\n",
        "# 5. Convolutional layer, (input=length 9 and 15 channels, kernel size 3, stride 2, padding=\"valid\", 15 output channels)\n",
        "# 6. ReLU\n",
        "# 7. Flatten (converts 4x15) to length 60\n",
        "# 8. Linear layer (input size = 60, output size = 10)\n",
        "# References:\n",
        "# https://pytorch.org/docs/1.13/generated/torch.nn.Conv1d.html?highlight=conv1d#torch.nn.Conv1d\n",
        "# https://pytorch.org/docs/stable/generated/torch.nn.Flatten.html\n",
        "# https://pytorch.org/docs/1.13/generated/torch.nn.Linear.html?highlight=linear#torch.nn.Linear\n",
        "\n",
        "# NOTE THAT THE CONVOLUTIONAL LAYERS NEED TO TAKE THE NUMBER OF INPUT CHANNELS AS A PARAMETER\n",
        "# AND NOT THE INPUT SIZE.\n",
        "\n",
        "# Replace the following function:\n",
        "model = nn.Sequential(\n",
        "nn.Conv1d(1, 15, 3, 2, padding=\"valid\"),\n",
        "nn.ReLU(),\n",
        "nn.Conv1d(15, 15, 3, 2, padding=\"valid\"),\n",
        "nn.ReLU(),\n",
        "nn.Conv1d(15, 15, 3, 2, padding=\"valid\"),\n",
        "nn.ReLU(),\n",
        "nn.Flatten(),\n",
        "nn.Linear(60, 10))\n",
        "\n",
        "\n",
        "\n"
      ],
      "metadata": {
        "id": "FslroPJJffrh"
      },
      "execution_count": 5,
      "outputs": []
    },
    {
      "cell_type": "code",
      "source": [
        "# He initialization of weights\n",
        "def weights_init(layer_in):\n",
        "  if isinstance(layer_in, nn.Linear):\n",
        "    nn.init.kaiming_uniform_(layer_in.weight)\n",
        "    layer_in.bias.data.fill_(0.0)"
      ],
      "metadata": {
        "id": "YgLaex1pfhqz"
      },
      "execution_count": 6,
      "outputs": []
    },
    {
      "cell_type": "code",
      "source": [
        "# choose cross entropy loss function (equation 5.24 in the loss notes)\n",
        "loss_function = nn.CrossEntropyLoss()\n",
        "# construct SGD optimizer and initialize learning rate and momentum\n",
        "optimizer = torch.optim.SGD(model.parameters(), lr = 0.05, momentum=0.9)\n",
        "# object that decreases learning rate by half every 20 epochs\n",
        "scheduler = StepLR(optimizer, step_size=20, gamma=0.5)\n",
        "# create 100 dummy data points and store in data loader class\n",
        "x_train = torch.tensor(train_data_x.transpose().astype('float32'))\n",
        "y_train = torch.tensor(train_data_y.astype('long')).long()\n",
        "x_val= torch.tensor(val_data_x.transpose().astype('float32'))\n",
        "y_val = torch.tensor(val_data_y.astype('long')).long()\n",
        "\n",
        "# load the data into a class that creates the batches\n",
        "data_loader = DataLoader(TensorDataset(x_train,y_train), batch_size=100, shuffle=True, worker_init_fn=np.random.seed(1))\n",
        "\n",
        "# Initialize model weights\n",
        "model.apply(weights_init)\n",
        "\n",
        "# loop over the dataset n_epoch times\n",
        "n_epoch = 100\n",
        "# store the loss and the % correct at each epoch\n",
        "losses_train = np.zeros((n_epoch))\n",
        "errors_train = np.zeros((n_epoch))\n",
        "losses_val = np.zeros((n_epoch))\n",
        "errors_val = np.zeros((n_epoch))\n",
        "\n",
        "for epoch in range(n_epoch):\n",
        "  # loop over batches\n",
        "  for i, data in enumerate(data_loader):\n",
        "    # retrieve inputs and labels for this batch\n",
        "    x_batch, y_batch = data\n",
        "    # zero the parameter gradients\n",
        "    optimizer.zero_grad()\n",
        "    # forward pass -- calculate model output\n",
        "    pred = model(x_batch[:,None,:])\n",
        "    # compute the loss\n",
        "    loss = loss_function(pred, y_batch)\n",
        "    # backward pass\n",
        "    loss.backward()\n",
        "    # SGD update\n",
        "    optimizer.step()\n",
        "\n",
        "  # Run whole dataset to get statistics -- normally wouldn't do this\n",
        "  pred_train = model(x_train[:,None,:])\n",
        "  pred_val = model(x_val[:,None,:])\n",
        "  _, predicted_train_class = torch.max(pred_train.data, 1)\n",
        "  _, predicted_val_class = torch.max(pred_val.data, 1)\n",
        "  errors_train[epoch] = 100 - 100 * (predicted_train_class == y_train).float().sum() / len(y_train)\n",
        "  errors_val[epoch]= 100 - 100 * (predicted_val_class == y_val).float().sum() / len(y_val)\n",
        "  losses_train[epoch] = loss_function(pred_train, y_train).item()\n",
        "  losses_val[epoch]= loss_function(pred_val, y_val).item()\n",
        "  print(f'Epoch {epoch:5d}, train loss {losses_train[epoch]:.6f}, train error {errors_train[epoch]:3.2f},  val loss {losses_val[epoch]:.6f}, percent error {errors_val[epoch]:3.2f}')\n",
        "\n",
        "  # tell scheduler to consider updating learning rate\n",
        "  scheduler.step()\n",
        "\n",
        "# Plot the results\n",
        "fig, ax = plt.subplots()\n",
        "ax.plot(errors_train,'r-',label='train')\n",
        "ax.plot(errors_val,'b-',label='validation')\n",
        "ax.set_ylim(0,100); ax.set_xlim(0,n_epoch)\n",
        "ax.set_xlabel('Epoch'); ax.set_ylabel('Error')\n",
        "ax.set_title('Part I: Validation Result %3.2f'%(errors_val[-1]))\n",
        "ax.legend()\n",
        "plt.show()"
      ],
      "metadata": {
        "id": "NYw8I_3mmX5c",
        "outputId": "7fd1c406-9af0-4532-b1d1-f0455606197c",
        "colab": {
          "base_uri": "https://localhost:8080/",
          "height": 1000
        }
      },
      "execution_count": 7,
      "outputs": [
        {
          "output_type": "stream",
          "name": "stdout",
          "text": [
            "Epoch     0, train loss 2.026812, train error 79.03,  val loss 2.035728, percent error 81.10\n",
            "Epoch     1, train loss 1.635677, train error 62.12,  val loss 1.656918, percent error 65.90\n",
            "Epoch     2, train loss 1.412558, train error 57.12,  val loss 1.410697, percent error 59.80\n",
            "Epoch     3, train loss 1.340658, train error 54.28,  val loss 1.336417, percent error 55.90\n",
            "Epoch     4, train loss 1.324879, train error 52.90,  val loss 1.326414, percent error 55.10\n",
            "Epoch     5, train loss 1.263643, train error 51.03,  val loss 1.270581, percent error 51.20\n",
            "Epoch     6, train loss 1.121626, train error 45.30,  val loss 1.129197, percent error 47.30\n",
            "Epoch     7, train loss 1.065568, train error 42.15,  val loss 1.097241, percent error 45.60\n",
            "Epoch     8, train loss 1.004923, train error 40.45,  val loss 1.033042, percent error 42.00\n",
            "Epoch     9, train loss 0.908126, train error 36.88,  val loss 0.938198, percent error 37.60\n",
            "Epoch    10, train loss 0.854059, train error 33.97,  val loss 0.891320, percent error 36.10\n",
            "Epoch    11, train loss 0.755480, train error 30.40,  val loss 0.799306, percent error 32.60\n",
            "Epoch    12, train loss 0.732399, train error 28.62,  val loss 0.787427, percent error 31.40\n",
            "Epoch    13, train loss 0.680715, train error 26.60,  val loss 0.720381, percent error 28.20\n",
            "Epoch    14, train loss 0.580013, train error 22.65,  val loss 0.643807, percent error 26.70\n",
            "Epoch    15, train loss 0.542440, train error 21.50,  val loss 0.650095, percent error 25.30\n",
            "Epoch    16, train loss 0.438766, train error 16.70,  val loss 0.542408, percent error 21.80\n",
            "Epoch    17, train loss 0.402742, train error 15.12,  val loss 0.508601, percent error 19.40\n",
            "Epoch    18, train loss 0.391650, train error 14.78,  val loss 0.487048, percent error 19.80\n",
            "Epoch    19, train loss 0.421376, train error 17.03,  val loss 0.524356, percent error 19.80\n",
            "Epoch    20, train loss 0.296128, train error 10.75,  val loss 0.403193, percent error 15.30\n",
            "Epoch    21, train loss 0.269458, train error 9.43,  val loss 0.392126, percent error 14.30\n",
            "Epoch    22, train loss 0.282351, train error 10.32,  val loss 0.420661, percent error 15.50\n",
            "Epoch    23, train loss 0.256558, train error 9.15,  val loss 0.401055, percent error 14.20\n",
            "Epoch    24, train loss 0.256815, train error 9.90,  val loss 0.418361, percent error 16.00\n",
            "Epoch    25, train loss 0.264768, train error 10.07,  val loss 0.429327, percent error 13.90\n",
            "Epoch    26, train loss 0.211542, train error 7.72,  val loss 0.366856, percent error 13.80\n",
            "Epoch    27, train loss 0.222236, train error 8.10,  val loss 0.385621, percent error 13.00\n",
            "Epoch    28, train loss 0.306452, train error 11.80,  val loss 0.491206, percent error 15.40\n",
            "Epoch    29, train loss 0.196791, train error 7.38,  val loss 0.355917, percent error 12.00\n",
            "Epoch    30, train loss 0.251296, train error 9.93,  val loss 0.433488, percent error 13.90\n",
            "Epoch    31, train loss 0.321346, train error 12.15,  val loss 0.545238, percent error 18.20\n",
            "Epoch    32, train loss 0.179550, train error 6.47,  val loss 0.343606, percent error 11.80\n",
            "Epoch    33, train loss 0.186933, train error 7.10,  val loss 0.426169, percent error 13.30\n",
            "Epoch    34, train loss 0.170729, train error 6.20,  val loss 0.369480, percent error 10.70\n",
            "Epoch    35, train loss 0.182956, train error 6.72,  val loss 0.387920, percent error 12.80\n",
            "Epoch    36, train loss 0.161570, train error 5.85,  val loss 0.349553, percent error 11.70\n",
            "Epoch    37, train loss 0.167446, train error 5.78,  val loss 0.366803, percent error 11.90\n",
            "Epoch    38, train loss 0.169499, train error 6.43,  val loss 0.402840, percent error 12.00\n",
            "Epoch    39, train loss 0.171529, train error 6.53,  val loss 0.377804, percent error 12.60\n",
            "Epoch    40, train loss 0.125997, train error 4.35,  val loss 0.364154, percent error 11.80\n",
            "Epoch    41, train loss 0.120096, train error 3.70,  val loss 0.355242, percent error 11.70\n",
            "Epoch    42, train loss 0.118102, train error 4.05,  val loss 0.362339, percent error 11.60\n",
            "Epoch    43, train loss 0.119212, train error 3.78,  val loss 0.363945, percent error 11.60\n",
            "Epoch    44, train loss 0.112332, train error 3.57,  val loss 0.373439, percent error 11.30\n",
            "Epoch    45, train loss 0.114977, train error 3.90,  val loss 0.378391, percent error 11.60\n",
            "Epoch    46, train loss 0.110739, train error 3.65,  val loss 0.359111, percent error 10.40\n",
            "Epoch    47, train loss 0.116061, train error 4.05,  val loss 0.408435, percent error 11.30\n",
            "Epoch    48, train loss 0.112588, train error 3.65,  val loss 0.397801, percent error 11.00\n",
            "Epoch    49, train loss 0.107915, train error 3.35,  val loss 0.370013, percent error 10.40\n",
            "Epoch    50, train loss 0.099615, train error 3.18,  val loss 0.373264, percent error 10.70\n",
            "Epoch    51, train loss 0.100633, train error 3.03,  val loss 0.387677, percent error 11.20\n",
            "Epoch    52, train loss 0.098603, train error 2.95,  val loss 0.385555, percent error 11.40\n",
            "Epoch    53, train loss 0.094157, train error 2.90,  val loss 0.363583, percent error 11.20\n",
            "Epoch    54, train loss 0.099075, train error 3.10,  val loss 0.388259, percent error 10.30\n",
            "Epoch    55, train loss 0.092058, train error 2.82,  val loss 0.388808, percent error 11.10\n",
            "Epoch    56, train loss 0.091162, train error 2.82,  val loss 0.399401, percent error 11.10\n",
            "Epoch    57, train loss 0.094063, train error 2.95,  val loss 0.408893, percent error 11.30\n",
            "Epoch    58, train loss 0.090209, train error 2.47,  val loss 0.412332, percent error 11.70\n",
            "Epoch    59, train loss 0.091457, train error 2.72,  val loss 0.402329, percent error 11.10\n",
            "Epoch    60, train loss 0.079529, train error 2.07,  val loss 0.399685, percent error 11.10\n",
            "Epoch    61, train loss 0.079352, train error 2.18,  val loss 0.399430, percent error 10.90\n",
            "Epoch    62, train loss 0.083403, train error 2.47,  val loss 0.416978, percent error 11.40\n",
            "Epoch    63, train loss 0.078439, train error 2.03,  val loss 0.397096, percent error 10.70\n",
            "Epoch    64, train loss 0.077009, train error 1.85,  val loss 0.399483, percent error 10.80\n",
            "Epoch    65, train loss 0.075899, train error 1.78,  val loss 0.406348, percent error 10.80\n",
            "Epoch    66, train loss 0.075813, train error 1.80,  val loss 0.406767, percent error 10.80\n",
            "Epoch    67, train loss 0.077103, train error 2.18,  val loss 0.410295, percent error 10.80\n",
            "Epoch    68, train loss 0.074667, train error 1.93,  val loss 0.407413, percent error 10.90\n",
            "Epoch    69, train loss 0.072558, train error 1.72,  val loss 0.412144, percent error 10.90\n",
            "Epoch    70, train loss 0.074091, train error 1.80,  val loss 0.417768, percent error 11.20\n",
            "Epoch    71, train loss 0.071892, train error 1.72,  val loss 0.415370, percent error 10.60\n",
            "Epoch    72, train loss 0.073805, train error 1.97,  val loss 0.415369, percent error 11.50\n",
            "Epoch    73, train loss 0.073748, train error 1.95,  val loss 0.413269, percent error 10.80\n",
            "Epoch    74, train loss 0.076757, train error 2.12,  val loss 0.436495, percent error 11.20\n",
            "Epoch    75, train loss 0.074334, train error 2.10,  val loss 0.420139, percent error 10.60\n",
            "Epoch    76, train loss 0.070908, train error 1.85,  val loss 0.423939, percent error 10.40\n",
            "Epoch    77, train loss 0.068045, train error 1.78,  val loss 0.423746, percent error 11.00\n",
            "Epoch    78, train loss 0.067443, train error 1.75,  val loss 0.425071, percent error 10.10\n",
            "Epoch    79, train loss 0.068971, train error 1.78,  val loss 0.435413, percent error 11.70\n",
            "Epoch    80, train loss 0.064560, train error 1.62,  val loss 0.426187, percent error 11.00\n",
            "Epoch    81, train loss 0.064428, train error 1.45,  val loss 0.426635, percent error 11.20\n",
            "Epoch    82, train loss 0.064156, train error 1.62,  val loss 0.428593, percent error 10.70\n",
            "Epoch    83, train loss 0.063297, train error 1.43,  val loss 0.432626, percent error 11.10\n",
            "Epoch    84, train loss 0.065458, train error 1.75,  val loss 0.440508, percent error 11.10\n",
            "Epoch    85, train loss 0.062735, train error 1.43,  val loss 0.431452, percent error 11.00\n",
            "Epoch    86, train loss 0.062174, train error 1.43,  val loss 0.427964, percent error 10.80\n",
            "Epoch    87, train loss 0.062433, train error 1.43,  val loss 0.429385, percent error 10.90\n",
            "Epoch    88, train loss 0.062151, train error 1.38,  val loss 0.430839, percent error 11.00\n",
            "Epoch    89, train loss 0.063096, train error 1.50,  val loss 0.440047, percent error 11.30\n",
            "Epoch    90, train loss 0.061168, train error 1.43,  val loss 0.437842, percent error 11.20\n",
            "Epoch    91, train loss 0.061444, train error 1.40,  val loss 0.438053, percent error 11.20\n",
            "Epoch    92, train loss 0.060753, train error 1.38,  val loss 0.434725, percent error 11.10\n",
            "Epoch    93, train loss 0.063026, train error 1.62,  val loss 0.446954, percent error 11.60\n",
            "Epoch    94, train loss 0.061508, train error 1.47,  val loss 0.433522, percent error 11.00\n",
            "Epoch    95, train loss 0.060291, train error 1.32,  val loss 0.435195, percent error 10.90\n",
            "Epoch    96, train loss 0.059315, train error 1.25,  val loss 0.440746, percent error 11.00\n",
            "Epoch    97, train loss 0.060582, train error 1.45,  val loss 0.446998, percent error 11.00\n",
            "Epoch    98, train loss 0.059163, train error 1.25,  val loss 0.435803, percent error 10.90\n",
            "Epoch    99, train loss 0.059745, train error 1.35,  val loss 0.450136, percent error 11.40\n"
          ]
        },
        {
          "output_type": "display_data",
          "data": {
            "text/plain": [
              "<Figure size 640x480 with 1 Axes>"
            ],
            "image/png": "[encoded data removed]"
          },
          "metadata": {}
        }
      ]
    }
  ]
}