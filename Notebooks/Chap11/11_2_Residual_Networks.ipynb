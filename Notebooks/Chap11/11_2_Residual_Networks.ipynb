{
  "nbformat": 4,
  "nbformat_minor": 0,
  "metadata": {
    "colab": {
      "provenance": [],
      "gpuType": "T4",
      "include_colab_link": true
    },
    "kernelspec": {
      "name": "python3",
      "display_name": "Python 3"
    },
    "language_info": {
      "name": "python"
    },
    "accelerator": "GPU"
  },
  "cells": [
    {
      "cell_type": "markdown",
      "metadata": {
        "id": "view-in-github",
        "colab_type": "text"
      },
      "source": [
        "<a href=\"https://colab.research.google.com/github/StuffOmarMade/Understanding-Deep-Learning/blob/main/Notebooks/Chap11/11_2_Residual_Networks.ipynb\" target=\"_parent\"><img src=\"https://colab.research.google.com/assets/colab-badge.svg\" alt=\"Open In Colab\"/></a>"
      ]
    },
    {
      "cell_type": "markdown",
      "source": [
        "# **Notebook 11.2: Residual Networks**\n",
        "\n",
        "This notebook adapts the networks for MNIST1D to use residual connections.\n",
        "\n",
        "Work through the cells below, running each cell in turn. In various places you will see the words \"TODO\". Follow the instructions at these places and make predictions about what is going to happen or write code to complete the functions.\n",
        "\n",
        "Contact me at udlbookmail@gmail.com if you find any mistakes or have any suggestions.\n",
        "\n"
      ],
      "metadata": {
        "id": "t9vk9Elugvmi"
      }
    },
    {
      "cell_type": "code",
      "source": [
        "# Run this if you're in a Colab to install MNIST 1D repository\n",
        "!pip install git+https://github.com/greydanus/mnist1d"
      ],
      "metadata": {
        "id": "D5yLObtZCi9J",
        "colab": {
          "base_uri": "https://localhost:8080/"
        },
        "outputId": "b78ac556-af56-4042-ea2f-1a9480ad8ad9"
      },
      "execution_count": 1,
      "outputs": [
        {
          "output_type": "stream",
          "name": "stdout",
          "text": [
            "Collecting git+https://github.com/greydanus/mnist1d\n",
            "  Cloning https://github.com/greydanus/mnist1d to /tmp/pip-req-build-rnifer28\n",
            "  Running command git clone --filter=blob:none --quiet https://github.com/greydanus/mnist1d /tmp/pip-req-build-rnifer28\n",
            "  Resolved https://github.com/greydanus/mnist1d to commit 7878d96082abd200c546a07a4101fa90b30fdf7e\n",
            "  Installing build dependencies ... \u001b[?25l\u001b[?25hdone\n",
            "  Getting requirements to build wheel ... \u001b[?25l\u001b[?25hdone\n",
            "  Preparing metadata (pyproject.toml) ... \u001b[?25l\u001b[?25hdone\n",
            "Requirement already satisfied: requests in /usr/local/lib/python3.11/dist-packages (from mnist1d==0.0.2.post16) (2.32.3)\n",
            "Requirement already satisfied: numpy in /usr/local/lib/python3.11/dist-packages (from mnist1d==0.0.2.post16) (2.0.2)\n",
            "Requirement already satisfied: matplotlib in /usr/local/lib/python3.11/dist-packages (from mnist1d==0.0.2.post16) (3.10.0)\n",
            "Requirement already satisfied: scipy in /usr/local/lib/python3.11/dist-packages (from mnist1d==0.0.2.post16) (1.16.1)\n",
            "Requirement already satisfied: contourpy>=1.0.1 in /usr/local/lib/python3.11/dist-packages (from matplotlib->mnist1d==0.0.2.post16) (1.3.3)\n",
            "Requirement already satisfied: cycler>=0.10 in /usr/local/lib/python3.11/dist-packages (from matplotlib->mnist1d==0.0.2.post16) (0.12.1)\n",
            "Requirement already satisfied: fonttools>=4.22.0 in /usr/local/lib/python3.11/dist-packages (from matplotlib->mnist1d==0.0.2.post16) (4.59.0)\n",
            "Requirement already satisfied: kiwisolver>=1.3.1 in /usr/local/lib/python3.11/dist-packages (from matplotlib->mnist1d==0.0.2.post16) (1.4.9)\n",
            "Requirement already satisfied: packaging>=20.0 in /usr/local/lib/python3.11/dist-packages (from matplotlib->mnist1d==0.0.2.post16) (25.0)\n",
            "Requirement already satisfied: pillow>=8 in /usr/local/lib/python3.11/dist-packages (from matplotlib->mnist1d==0.0.2.post16) (11.3.0)\n",
            "Requirement already satisfied: pyparsing>=2.3.1 in /usr/local/lib/python3.11/dist-packages (from matplotlib->mnist1d==0.0.2.post16) (3.2.3)\n",
            "Requirement already satisfied: python-dateutil>=2.7 in /usr/local/lib/python3.11/dist-packages (from matplotlib->mnist1d==0.0.2.post16) (2.9.0.post0)\n",
            "Requirement already satisfied: charset-normalizer<4,>=2 in /usr/local/lib/python3.11/dist-packages (from requests->mnist1d==0.0.2.post16) (3.4.3)\n",
            "Requirement already satisfied: idna<4,>=2.5 in /usr/local/lib/python3.11/dist-packages (from requests->mnist1d==0.0.2.post16) (3.10)\n",
            "Requirement already satisfied: urllib3<3,>=1.21.1 in /usr/local/lib/python3.11/dist-packages (from requests->mnist1d==0.0.2.post16) (2.5.0)\n",
            "Requirement already satisfied: certifi>=2017.4.17 in /usr/local/lib/python3.11/dist-packages (from requests->mnist1d==0.0.2.post16) (2025.8.3)\n",
            "Requirement already satisfied: six>=1.5 in /usr/local/lib/python3.11/dist-packages (from python-dateutil>=2.7->matplotlib->mnist1d==0.0.2.post16) (1.17.0)\n",
            "Building wheels for collected packages: mnist1d\n",
            "  Building wheel for mnist1d (pyproject.toml) ... \u001b[?25l\u001b[?25hdone\n",
            "  Created wheel for mnist1d: filename=mnist1d-0.0.2.post16-py3-none-any.whl size=14665 sha256=19bc1279d2e26bb33a72af0bd255c3f068c5d3d0cb8c1b4c0eed814735aa4655\n",
            "  Stored in directory: /tmp/pip-ephem-wheel-cache-t9lfcm1d/wheels/d6/38/42/3d2112bc7d915f6195254ac85eb761d922d1b18f52817aa8e2\n",
            "Successfully built mnist1d\n",
            "Installing collected packages: mnist1d\n",
            "Successfully installed mnist1d-0.0.2.post16\n"
          ]
        }
      ]
    },
    {
      "cell_type": "code",
      "source": [
        "import numpy as np\n",
        "import os\n",
        "import torch, torch.nn as nn\n",
        "from torch.utils.data import TensorDataset, DataLoader\n",
        "from torch.optim.lr_scheduler import StepLR\n",
        "import matplotlib.pyplot as plt\n",
        "import mnist1d\n",
        "import random"
      ],
      "metadata": {
        "id": "YrXWAH7sUWvU"
      },
      "execution_count": 2,
      "outputs": []
    },
    {
      "cell_type": "code",
      "source": [
        "args = mnist1d.data.get_dataset_args()\n",
        "data = mnist1d.data.get_dataset(args, path='./mnist1d_data.pkl', download=False, regenerate=False)\n",
        "\n",
        "# The training and test input and outputs are in\n",
        "# data['x'], data['y'], data['x_test'], and data['y_test']\n",
        "print(\"Examples in training set: {}\".format(len(data['y'])))\n",
        "print(\"Examples in test set: {}\".format(len(data['y_test'])))\n",
        "print(\"Length of each example: {}\".format(data['x'].shape[-1]))"
      ],
      "metadata": {
        "id": "twI72ZCrCt5z",
        "colab": {
          "base_uri": "https://localhost:8080/"
        },
        "outputId": "c2cc2bcb-c769-4fd7-b839-3caa9f64f1aa"
      },
      "execution_count": 3,
      "outputs": [
        {
          "output_type": "stream",
          "name": "stdout",
          "text": [
            "Did or could not load data from ./mnist1d_data.pkl. Rebuilding dataset...\n",
            "Examples in training set: 4000\n",
            "Examples in test set: 1000\n",
            "Length of each example: 40\n"
          ]
        }
      ]
    },
    {
      "cell_type": "code",
      "source": [
        "# Load in the data\n",
        "train_data_x = data['x'].transpose()\n",
        "train_data_y = data['y']\n",
        "val_data_x = data['x_test'].transpose()\n",
        "val_data_y = data['y_test']\n",
        "# Print out sizes\n",
        "print(\"Train data: %d examples (columns), each of which has %d dimensions (rows)\"%((train_data_x.shape[1],train_data_x.shape[0])))\n",
        "print(\"Validation data: %d examples (columns), each of which has %d dimensions (rows)\"%((val_data_x.shape[1],val_data_x.shape[0])))"
      ],
      "metadata": {
        "id": "8bKADvLHbiV5",
        "colab": {
          "base_uri": "https://localhost:8080/"
        },
        "outputId": "d45f64da-f1d3-4f1f-fe13-0b52d5aa61c7"
      },
      "execution_count": 4,
      "outputs": [
        {
          "output_type": "stream",
          "name": "stdout",
          "text": [
            "Train data: 4000 examples (columns), each of which has 40 dimensions (rows)\n",
            "Validation data: 1000 examples (columns), each of which has 40 dimensions (rows)\n"
          ]
        }
      ]
    },
    {
      "cell_type": "markdown",
      "source": [
        "Define the network"
      ],
      "metadata": {
        "id": "_sFvRDGrl4qe"
      }
    },
    {
      "cell_type": "code",
      "source": [
        "# There are 40 input dimensions and 10 output dimensions for this data\n",
        "# The inputs correspond to the 40 offsets in the MNIST1D template.\n",
        "D_i = 40\n",
        "# The outputs correspond to the 10 digits\n",
        "D_o = 10\n",
        "\n",
        "\n",
        "# We will adapt this model to have residual connections around the linear layers\n",
        "# This is the same model we used in practical 8.1, but we can't use the sequential\n",
        "# class for residual networks (which aren't strictly sequential).  Hence, I've rewritten\n",
        "# it as a model that inherits from a base class\n",
        "\n",
        "class ResidualNetwork(torch.nn.Module):\n",
        "  def __init__(self, input_size, output_size, hidden_size=100):\n",
        "    super(ResidualNetwork, self).__init__()\n",
        "    self.linear1 = nn.Linear(input_size, hidden_size)\n",
        "    self.linear2 = nn.Linear(hidden_size, hidden_size)\n",
        "    self.linear3 = nn.Linear(hidden_size, hidden_size)\n",
        "    self.linear4 = nn.Linear(hidden_size, output_size)\n",
        "    print(\"Initialized MLPBase model with {} parameters\".format(self.count_params()))\n",
        "\n",
        "  def count_params(self):\n",
        "    return sum([p.view(-1).shape[0] for p in self.parameters()])\n",
        "\n",
        "# TODO -- Add residual connections to this model\n",
        "# The order of operations within each block should similar to figure 11.5b\n",
        "# ie., linear1 first, ReLU+linear2 in first residual block, ReLU+linear3 in second residual block), linear4 at end\n",
        "# Replace this function\n",
        "  def forward(self, x):\n",
        "    h1 = self.linear1(x)\n",
        "    h2 = self.linear2(h1.relu()) + h1\n",
        "    h3 = self.linear3(h2.relu()) + h2\n",
        "    return self.linear4(h3)"
      ],
      "metadata": {
        "id": "FslroPJJffrh"
      },
      "execution_count": 31,
      "outputs": []
    },
    {
      "cell_type": "code",
      "source": [
        "# He initialization of weights\n",
        "def weights_init(layer_in):\n",
        "  if isinstance(layer_in, nn.Linear):\n",
        "    nn.init.kaiming_uniform_(layer_in.weight)\n",
        "    layer_in.bias.data.fill_(0.0)"
      ],
      "metadata": {
        "id": "YgLaex1pfhqz"
      },
      "execution_count": 32,
      "outputs": []
    },
    {
      "cell_type": "code",
      "source": [
        "#Define the model\n",
        "model = ResidualNetwork(40, 10)\n",
        "\n",
        "# choose cross entropy loss function (equation 5.24 in the loss notes)\n",
        "loss_function = nn.CrossEntropyLoss()\n",
        "# construct SGD optimizer and initialize learning rate and momentum\n",
        "optimizer = torch.optim.SGD(model.parameters(), lr = 0.05, momentum=0.9)\n",
        "# object that decreases learning rate by half every 20 epochs\n",
        "scheduler = StepLR(optimizer, step_size=20, gamma=0.5)\n",
        "# convert data to torch tensors\n",
        "x_train = torch.tensor(train_data_x.transpose().astype('float32'))\n",
        "y_train = torch.tensor(train_data_y.astype('long'))\n",
        "x_val= torch.tensor(val_data_x.transpose().astype('float32'))\n",
        "y_val = torch.tensor(val_data_y.astype('long'))\n",
        "\n",
        "# load the data into a class that creates the batches\n",
        "data_loader = DataLoader(TensorDataset(x_train,y_train), batch_size=100, shuffle=True, worker_init_fn=np.random.seed(1))\n",
        "\n",
        "# Initialize model weights\n",
        "model.apply(weights_init)\n",
        "\n",
        "# loop over the dataset n_epoch times\n",
        "n_epoch = 100\n",
        "# store the loss and the % correct at each epoch\n",
        "losses_train = np.zeros((n_epoch))\n",
        "errors_train = np.zeros((n_epoch))\n",
        "losses_val = np.zeros((n_epoch))\n",
        "errors_val = np.zeros((n_epoch))\n",
        "\n",
        "for epoch in range(n_epoch):\n",
        "  # loop over batches\n",
        "  for i, data in enumerate(data_loader):\n",
        "    # retrieve inputs and labels for this batch\n",
        "    x_batch, y_batch = data\n",
        "    # zero the parameter gradients\n",
        "    optimizer.zero_grad()\n",
        "    # forward pass -- calculate model output\n",
        "    pred = model(x_batch)\n",
        "    # compute the loss\n",
        "    loss = loss_function(pred, y_batch)\n",
        "    # backward pass\n",
        "    loss.backward()\n",
        "    # SGD update\n",
        "    optimizer.step()\n",
        "\n",
        "  # Run whole dataset to get statistics -- normally wouldn't do this\n",
        "  pred_train = model(x_train)\n",
        "  pred_val = model(x_val)\n",
        "  _, predicted_train_class = torch.max(pred_train.data, 1)\n",
        "  _, predicted_val_class = torch.max(pred_val.data, 1)\n",
        "  errors_train[epoch] = 100 - 100 * (predicted_train_class == y_train).float().sum() / len(y_train)\n",
        "  errors_val[epoch]= 100 - 100 * (predicted_val_class == y_val).float().sum() / len(y_val)\n",
        "  losses_train[epoch] = loss_function(pred_train, y_train).item()\n",
        "  losses_val[epoch]= loss_function(pred_val, y_val).item()\n",
        "  print(f'Epoch {epoch:5d}, train loss {losses_train[epoch]:.6f}, train error {errors_train[epoch]:3.2f},  val loss {losses_val[epoch]:.6f}, percent error {errors_val[epoch]:3.2f}')\n",
        "\n",
        "  # tell scheduler to consider updating learning rate\n",
        "  scheduler.step()"
      ],
      "metadata": {
        "id": "NYw8I_3mmX5c",
        "colab": {
          "base_uri": "https://localhost:8080/"
        },
        "outputId": "388d6d76-4db9-4e0d-802a-f7eaaa5e2263"
      },
      "execution_count": 33,
      "outputs": [
        {
          "output_type": "stream",
          "name": "stdout",
          "text": [
            "Initialized MLPBase model with 25310 parameters\n",
            "Epoch     0, train loss 1.737582, train error 62.62,  val loss 1.832109, percent error 66.00\n",
            "Epoch     1, train loss 1.208395, train error 45.83,  val loss 1.321993, percent error 51.00\n",
            "Epoch     2, train loss 0.995907, train error 38.00,  val loss 1.166839, percent error 45.20\n",
            "Epoch     3, train loss 0.890737, train error 33.82,  val loss 1.148351, percent error 44.70\n",
            "Epoch     4, train loss 0.874237, train error 33.22,  val loss 1.226928, percent error 45.20\n",
            "Epoch     5, train loss 0.832288, train error 31.45,  val loss 1.233395, percent error 44.80\n",
            "Epoch     6, train loss 0.742360, train error 28.88,  val loss 1.142513, percent error 41.40\n",
            "Epoch     7, train loss 0.627871, train error 24.20,  val loss 1.068770, percent error 38.30\n",
            "Epoch     8, train loss 0.608236, train error 22.78,  val loss 1.127295, percent error 40.10\n",
            "Epoch     9, train loss 0.538437, train error 20.90,  val loss 1.146883, percent error 41.00\n",
            "Epoch    10, train loss 0.538299, train error 19.72,  val loss 1.220175, percent error 40.30\n",
            "Epoch    11, train loss 0.517496, train error 19.25,  val loss 1.307002, percent error 37.40\n",
            "Epoch    12, train loss 0.396456, train error 15.30,  val loss 1.179842, percent error 36.20\n",
            "Epoch    13, train loss 0.469542, train error 17.57,  val loss 1.283857, percent error 37.10\n",
            "Epoch    14, train loss 0.344881, train error 12.93,  val loss 1.283017, percent error 37.60\n",
            "Epoch    15, train loss 0.368511, train error 13.38,  val loss 1.168664, percent error 35.20\n",
            "Epoch    16, train loss 0.502015, train error 17.55,  val loss 1.460351, percent error 37.80\n",
            "Epoch    17, train loss 0.364098, train error 13.32,  val loss 1.330264, percent error 36.30\n",
            "Epoch    18, train loss 0.298397, train error 11.47,  val loss 1.380332, percent error 34.80\n",
            "Epoch    19, train loss 0.257147, train error 9.43,  val loss 1.413068, percent error 36.70\n",
            "Epoch    20, train loss 0.093805, train error 2.60,  val loss 1.102793, percent error 30.80\n",
            "Epoch    21, train loss 0.049668, train error 0.75,  val loss 1.111166, percent error 30.40\n",
            "Epoch    22, train loss 0.030030, train error 0.15,  val loss 1.152590, percent error 30.30\n",
            "Epoch    23, train loss 0.020499, train error 0.00,  val loss 1.167147, percent error 28.90\n",
            "Epoch    24, train loss 0.016049, train error 0.00,  val loss 1.215536, percent error 28.60\n",
            "Epoch    25, train loss 0.012485, train error 0.00,  val loss 1.238871, percent error 28.40\n",
            "Epoch    26, train loss 0.010669, train error 0.00,  val loss 1.259954, percent error 28.30\n",
            "Epoch    27, train loss 0.009463, train error 0.00,  val loss 1.296593, percent error 28.90\n",
            "Epoch    28, train loss 0.008345, train error 0.00,  val loss 1.309515, percent error 28.50\n",
            "Epoch    29, train loss 0.007504, train error 0.00,  val loss 1.331812, percent error 28.60\n",
            "Epoch    30, train loss 0.006802, train error 0.00,  val loss 1.348684, percent error 28.40\n",
            "Epoch    31, train loss 0.006221, train error 0.00,  val loss 1.363702, percent error 28.50\n",
            "Epoch    32, train loss 0.005735, train error 0.00,  val loss 1.378937, percent error 28.30\n",
            "Epoch    33, train loss 0.005343, train error 0.00,  val loss 1.399760, percent error 28.10\n",
            "Epoch    34, train loss 0.004964, train error 0.00,  val loss 1.410150, percent error 28.50\n",
            "Epoch    35, train loss 0.004675, train error 0.00,  val loss 1.424502, percent error 28.60\n",
            "Epoch    36, train loss 0.004367, train error 0.00,  val loss 1.436870, percent error 28.60\n",
            "Epoch    37, train loss 0.004112, train error 0.00,  val loss 1.447615, percent error 28.50\n",
            "Epoch    38, train loss 0.003887, train error 0.00,  val loss 1.460867, percent error 28.70\n",
            "Epoch    39, train loss 0.003702, train error 0.00,  val loss 1.471891, percent error 28.50\n",
            "Epoch    40, train loss 0.003588, train error 0.00,  val loss 1.477192, percent error 28.50\n",
            "Epoch    41, train loss 0.003502, train error 0.00,  val loss 1.482959, percent error 28.70\n",
            "Epoch    42, train loss 0.003419, train error 0.00,  val loss 1.486752, percent error 28.60\n",
            "Epoch    43, train loss 0.003337, train error 0.00,  val loss 1.491056, percent error 28.70\n",
            "Epoch    44, train loss 0.003263, train error 0.00,  val loss 1.495324, percent error 28.70\n",
            "Epoch    45, train loss 0.003191, train error 0.00,  val loss 1.501022, percent error 28.90\n",
            "Epoch    46, train loss 0.003122, train error 0.00,  val loss 1.504912, percent error 28.80\n",
            "Epoch    47, train loss 0.003056, train error 0.00,  val loss 1.508834, percent error 28.70\n",
            "Epoch    48, train loss 0.002992, train error 0.00,  val loss 1.514155, percent error 28.90\n",
            "Epoch    49, train loss 0.002929, train error 0.00,  val loss 1.517882, percent error 28.90\n",
            "Epoch    50, train loss 0.002871, train error 0.00,  val loss 1.522034, percent error 28.90\n",
            "Epoch    51, train loss 0.002813, train error 0.00,  val loss 1.526154, percent error 29.00\n",
            "Epoch    52, train loss 0.002759, train error 0.00,  val loss 1.529122, percent error 29.00\n",
            "Epoch    53, train loss 0.002705, train error 0.00,  val loss 1.534377, percent error 28.90\n",
            "Epoch    54, train loss 0.002655, train error 0.00,  val loss 1.538105, percent error 29.00\n",
            "Epoch    55, train loss 0.002605, train error 0.00,  val loss 1.541302, percent error 28.90\n",
            "Epoch    56, train loss 0.002557, train error 0.00,  val loss 1.546036, percent error 29.00\n",
            "Epoch    57, train loss 0.002512, train error 0.00,  val loss 1.549183, percent error 29.00\n",
            "Epoch    58, train loss 0.002466, train error 0.00,  val loss 1.552546, percent error 29.10\n",
            "Epoch    59, train loss 0.002424, train error 0.00,  val loss 1.556518, percent error 29.10\n",
            "Epoch    60, train loss 0.002402, train error 0.00,  val loss 1.558321, percent error 29.10\n",
            "Epoch    61, train loss 0.002381, train error 0.00,  val loss 1.559785, percent error 29.10\n",
            "Epoch    62, train loss 0.002361, train error 0.00,  val loss 1.561730, percent error 29.10\n",
            "Epoch    63, train loss 0.002341, train error 0.00,  val loss 1.563320, percent error 29.10\n",
            "Epoch    64, train loss 0.002321, train error 0.00,  val loss 1.564627, percent error 29.10\n",
            "Epoch    65, train loss 0.002302, train error 0.00,  val loss 1.567038, percent error 29.10\n",
            "Epoch    66, train loss 0.002283, train error 0.00,  val loss 1.568417, percent error 29.10\n",
            "Epoch    67, train loss 0.002264, train error 0.00,  val loss 1.570045, percent error 29.10\n",
            "Epoch    68, train loss 0.002246, train error 0.00,  val loss 1.571576, percent error 29.10\n",
            "Epoch    69, train loss 0.002227, train error 0.00,  val loss 1.573404, percent error 29.10\n",
            "Epoch    70, train loss 0.002210, train error 0.00,  val loss 1.574692, percent error 29.10\n",
            "Epoch    71, train loss 0.002192, train error 0.00,  val loss 1.576144, percent error 29.20\n",
            "Epoch    72, train loss 0.002175, train error 0.00,  val loss 1.577968, percent error 29.10\n",
            "Epoch    73, train loss 0.002157, train error 0.00,  val loss 1.579693, percent error 29.10\n",
            "Epoch    74, train loss 0.002141, train error 0.00,  val loss 1.580993, percent error 29.00\n",
            "Epoch    75, train loss 0.002124, train error 0.00,  val loss 1.582873, percent error 29.20\n",
            "Epoch    76, train loss 0.002108, train error 0.00,  val loss 1.584170, percent error 29.10\n",
            "Epoch    77, train loss 0.002092, train error 0.00,  val loss 1.585896, percent error 29.10\n",
            "Epoch    78, train loss 0.002076, train error 0.00,  val loss 1.587735, percent error 29.10\n",
            "Epoch    79, train loss 0.002060, train error 0.00,  val loss 1.588906, percent error 29.00\n",
            "Epoch    80, train loss 0.002052, train error 0.00,  val loss 1.589671, percent error 29.00\n",
            "Epoch    81, train loss 0.002045, train error 0.00,  val loss 1.590362, percent error 29.10\n",
            "Epoch    82, train loss 0.002037, train error 0.00,  val loss 1.591218, percent error 29.00\n",
            "Epoch    83, train loss 0.002029, train error 0.00,  val loss 1.591905, percent error 29.10\n",
            "Epoch    84, train loss 0.002022, train error 0.00,  val loss 1.592572, percent error 29.10\n",
            "Epoch    85, train loss 0.002014, train error 0.00,  val loss 1.593555, percent error 29.10\n",
            "Epoch    86, train loss 0.002007, train error 0.00,  val loss 1.594087, percent error 29.10\n",
            "Epoch    87, train loss 0.002000, train error 0.00,  val loss 1.594793, percent error 29.10\n",
            "Epoch    88, train loss 0.001992, train error 0.00,  val loss 1.595558, percent error 29.10\n",
            "Epoch    89, train loss 0.001985, train error 0.00,  val loss 1.596362, percent error 29.10\n",
            "Epoch    90, train loss 0.001978, train error 0.00,  val loss 1.597000, percent error 29.10\n",
            "Epoch    91, train loss 0.001971, train error 0.00,  val loss 1.597677, percent error 29.10\n",
            "Epoch    92, train loss 0.001964, train error 0.00,  val loss 1.598384, percent error 29.10\n",
            "Epoch    93, train loss 0.001956, train error 0.00,  val loss 1.599128, percent error 29.10\n",
            "Epoch    94, train loss 0.001949, train error 0.00,  val loss 1.600052, percent error 29.10\n",
            "Epoch    95, train loss 0.001942, train error 0.00,  val loss 1.600592, percent error 29.10\n",
            "Epoch    96, train loss 0.001935, train error 0.00,  val loss 1.601519, percent error 29.10\n",
            "Epoch    97, train loss 0.001929, train error 0.00,  val loss 1.602062, percent error 29.10\n",
            "Epoch    98, train loss 0.001922, train error 0.00,  val loss 1.602844, percent error 29.10\n",
            "Epoch    99, train loss 0.001915, train error 0.00,  val loss 1.603491, percent error 29.10\n"
          ]
        }
      ]
    },
    {
      "cell_type": "code",
      "source": [
        "# Plot the results\n",
        "fig, ax = plt.subplots()\n",
        "ax.plot(errors_train,'r-',label='train')\n",
        "ax.plot(errors_val,'b-',label='test')\n",
        "ax.set_ylim(0,100); ax.set_xlim(0,n_epoch)\n",
        "ax.set_xlabel('Epoch'); ax.set_ylabel('Error')\n",
        "ax.set_title('TrainError %3.2f, Val Error %3.2f'%(errors_train[-1],errors_val[-1]))\n",
        "ax.legend()\n",
        "plt.show()"
      ],
      "metadata": {
        "id": "CcP_VyEmE2sv",
        "colab": {
          "base_uri": "https://localhost:8080/",
          "height": 472
        },
        "outputId": "bc6a46de-812d-43ee-c56f-f295d3023fb2"
      },
      "execution_count": 34,
      "outputs": [
        {
          "output_type": "display_data",
          "data": {
            "text/plain": [
              "<Figure size 640x480 with 1 Axes>"
            ],
            "image/png": "[encoded data removed]"
          },
          "metadata": {}
        }
      ]
    },
    {
      "cell_type": "markdown",
      "source": [
        "The primary motivation of residual networks is to allow training of much deeper networks.   \n",
        "\n",
        "TODO: Try running this network with and without the residual connections.  Does adding the residual connections change the performance?"
      ],
      "metadata": {
        "id": "wMmqhmxuAx0M"
      }
    },
    {
      "cell_type": "markdown",
      "source": [
        "val loss with residual connections: 29.10\n",
        "val loss without residual connection: 31.80"
      ],
      "metadata": {
        "id": "k-coR_JLZ6Jm"
      }
    }
  ]
}